{
  "cells": [
    {
      "cell_type": "markdown",
      "metadata": {
        "id": "view-in-github",
        "colab_type": "text"
      },
      "source": [
        "<a href=\"https://colab.research.google.com/github/akatukam/Image-Classifier/blob/main/Image_Classifier.ipynb\" target=\"_parent\"><img src=\"https://colab.research.google.com/assets/colab-badge.svg\" alt=\"Open In Colab\"/></a>"
      ]
    },
    {
      "cell_type": "markdown",
      "source": [
        "Anuja Katukam and Arav Patel"
      ],
      "metadata": {
        "id": "1sTerotdQMOc"
      }
    },
    {
      "cell_type": "code",
      "execution_count": 2,
      "metadata": {
        "id": "JFMMCsSPHXnF",
        "colab": {
          "base_uri": "https://localhost:8080/"
        },
        "outputId": "7283defd-3b6b-43db-812a-d389fd8304ff"
      },
      "outputs": [
        {
          "output_type": "stream",
          "name": "stdout",
          "text": [
            "--2025-04-01 20:37:01--  http://cs.umd.edu/~pulkit/hw_3_data.tar.gz\n",
            "Resolving cs.umd.edu (cs.umd.edu)... 128.8.127.4\n",
            "Connecting to cs.umd.edu (cs.umd.edu)|128.8.127.4|:80... connected.\n",
            "HTTP request sent, awaiting response... 301 Moved Permanently\n",
            "Location: http://www.cs.umd.edu/~pulkit/hw_3_data.tar.gz [following]\n",
            "--2025-04-01 20:37:01--  http://www.cs.umd.edu/~pulkit/hw_3_data.tar.gz\n",
            "Resolving www.cs.umd.edu (www.cs.umd.edu)... 128.8.127.4\n",
            "Reusing existing connection to cs.umd.edu:80.\n",
            "HTTP request sent, awaiting response... 200 OK\n",
            "Length: 7171530 (6.8M) [application/x-gzip]\n",
            "Saving to: ‘data.tar.gz’\n",
            "\n",
            "data.tar.gz         100%[===================>]   6.84M  2.42MB/s    in 2.8s    \n",
            "\n",
            "2025-04-01 20:37:05 (2.42 MB/s) - ‘data.tar.gz’ saved [7171530/7171530]\n",
            "\n"
          ]
        }
      ],
      "source": [
        "import os\n",
        "import tarfile\n",
        "\n",
        "if not os.path.isfile('./data.tar.gz'):\n",
        "    !wget 'http://cs.umd.edu/~pulkit/hw_3_data.tar.gz' -O data.tar.gz\n",
        "\n",
        "with tarfile.open('./data.tar.gz', 'r:gz') as tar:\n",
        "    tar.extractall(path='./')\n"
      ]
    },
    {
      "cell_type": "markdown",
      "metadata": {
        "id": "1jwdJ6QNL64y"
      },
      "source": [
        "### Dataset class"
      ]
    },
    {
      "cell_type": "code",
      "execution_count": 3,
      "metadata": {
        "id": "7bt-Ur2VKOhj"
      },
      "outputs": [],
      "source": [
        "import torch\n",
        "from torch.utils.data import Dataset\n",
        "import pandas as pd\n",
        "import cv2\n",
        "import os\n",
        "from PIL import Image\n",
        "\n",
        "class CustomImageDataset(Dataset):\n",
        "    def __init__(self, csv_path, data_root, transform=None, device='cpu'):\n",
        "        self.transform = transform\n",
        "        self.root_path = data_root\n",
        "        self.device = device\n",
        "\n",
        "        # Read the csv file. You can use the pandas library\n",
        "        data = pd.read_csv(csv_path)\n",
        "\n",
        "        # Get the image paths from the csv\n",
        "        self.image_paths = data['image_path'].tolist()\n",
        "\n",
        "        # Get the class ids from the csv\n",
        "        if 'class_id' in data.columns:\n",
        "            self.class_ids = data['class_id'].tolist()\n",
        "        else:\n",
        "            self.class_ids = None\n",
        "\n",
        "        # Get the image names from the csv\n",
        "        self.image_names = data['image_name'].tolist()\n",
        "\n",
        "    def __len__(self):\n",
        "        return len(self.image_paths)\n",
        "\n",
        "    def __getitem__(self, idx: int):\n",
        "        rel_img_path = self.image_paths[idx]\n",
        "        image_name = self.image_names[idx]\n",
        "        img = cv2.imread(rel_img_path)\n",
        "\n",
        "        # Check if the image was loaded successfully\n",
        "        if img is None:\n",
        "          print(f\"Failed to load image at {rel_img_path}\")\n",
        "          raise FileNotFoundError(f\"No image found at {rel_img_path}\")\n",
        "        # Convert the NumPy array (img) to a PIL Image\n",
        "\n",
        "        img = cv2.cvtColor(img, cv2.COLOR_BGR2RGB)\n",
        "        img = Image.fromarray(img)\n",
        "\n",
        "        # Apply transformations to the image\n",
        "        if self.transform:\n",
        "            img = self.transform(img)\n",
        "\n",
        "        # img = torch.tensor(img, dtype=torch.float).permute(2, 0, 1) / 255.0  # Reorder dimensions and normalize\n",
        "\n",
        "        if self.class_ids is None: # for testing purposes\n",
        "            return img, image_name, rel_img_path\n",
        "        else:\n",
        "            class_id = torch.tensor(self.class_ids[idx], dtype=torch.long)\n",
        "            return img.to(self.device), class_id.to(self.device)"
      ]
    },
    {
      "cell_type": "code",
      "execution_count": 4,
      "metadata": {
        "id": "DwbZlP1UQoN1"
      },
      "outputs": [],
      "source": [
        "import matplotlib.pyplot as plt\n",
        "import torchvision.transforms as transforms\n",
        "import torchvision.transforms as T\n",
        "\n",
        "def plot_image(img, title=None):\n",
        "  img = img.permute(1, 2, 0)\n",
        "  plt.imshow(img)\n",
        "  if title:\n",
        "      plt.title(title)\n",
        "  plt.axis('off')\n",
        "  plt.show()\n",
        "\n",
        "# Define transformations for the dataset\n",
        "transform = transforms.Compose([\n",
        "    transforms.Resize((256, 256)), # Resize to ensure all images are the same size\n",
        "    transforms.ToTensor(),  # Convert images to tensors\n",
        "    transforms.Normalize(mean=[0.485, 0.456, 0.406], std=[0.229, 0.224, 0.225])  # Normalize images\n",
        "])\n",
        "\n",
        "csv_path = '/content/data/csvs/train.csv'\n",
        "data_root = '/content'\n",
        "\n",
        "# Create an instance of the CustomImageDataset class for the training dataset\n",
        "dataset = CustomImageDataset(csv_path=csv_path, data_root=data_root, transform=transform, device='cpu')\n"
      ]
    },
    {
      "cell_type": "markdown",
      "metadata": {
        "id": "CtFIz_pdRcJ6"
      },
      "source": [
        "### Model definition"
      ]
    },
    {
      "cell_type": "code",
      "execution_count": 5,
      "metadata": {
        "id": "UR-UqnCNRhWE"
      },
      "outputs": [],
      "source": [
        "import torch.nn as nn\n",
        "import torch.nn.functional as F\n",
        "\n",
        "class ImageClassifier(nn.Module):\n",
        "    def __init__(self, n_classes):\n",
        "        super().__init__()\n",
        "\n",
        "        # Create one or more convolutional neural network layers. This is just a suggestion.\n",
        "        self.conv1 = nn.Conv2d(in_channels=3, out_channels=32, kernel_size=3, padding=1)\n",
        "        self.conv2 = nn.Conv2d(in_channels=32, out_channels=64, kernel_size=3, padding=1)\n",
        "        self.conv3 = nn.Conv2d(in_channels=64, out_channels=128, kernel_size=3, padding=1)\n",
        "\n",
        "        # Define pooling layer\n",
        "        self.pool = nn.MaxPool2d(kernel_size=2, stride=2)\n",
        "        # Define dropout to reduce overfitting\n",
        "        self.dropout = nn.Dropout(0.25)\n",
        "\n",
        "        # Create one or more feed forward layers. This is just a suggestion.\n",
        "        self.fc1 = nn.Linear(128 * 8 * 8, 512)  # After three pooling layers, the feature map will be 8x8\n",
        "        self.fc2 = nn.Linear(512, n_classes)\n",
        "\n",
        "    def forward(self, x):\n",
        "        # Apply first convolutional layer, followed by ReLU activation and pooling\n",
        "        x = self.pool(F.relu(self.conv1(x)))\n",
        "        # Apply second convolutional layer, followed by ReLU activation and pooling\n",
        "        x = self.pool(F.relu(self.conv2(x)))\n",
        "        # Apply third convolutional layer, followed by ReLU activation and pooling\n",
        "        x = self.pool(F.relu(self.conv3(x)))\n",
        "\n",
        "        # Flatten the output from the convolutional layers\n",
        "        x = torch.flatten(x, 1)\n",
        "\n",
        "        # Apply first fully connected layer with ReLU activation\n",
        "        x = F.relu(self.fc1(x))\n",
        "        # Apply dropout\n",
        "        x = self.dropout(x)\n",
        "        # Final fully connected layer to output class scores\n",
        "        x = self.fc2(x)\n",
        "\n",
        "        return x"
      ]
    },
    {
      "cell_type": "markdown",
      "metadata": {
        "id": "VK-lrVzeWgvs"
      },
      "source": [
        "### Training"
      ]
    },
    {
      "cell_type": "code",
      "execution_count": 6,
      "metadata": {
        "id": "WF0QMXRCWi-0",
        "outputId": "add6f17f-48a4-4d29-a053-f3425c03141f",
        "colab": {
          "base_uri": "https://localhost:8080/"
        }
      },
      "outputs": [
        {
          "output_type": "stream",
          "name": "stderr",
          "text": [
            "100%|██████████| 188/188 [00:04<00:00, 43.28it/s]\n",
            "100%|██████████| 188/188 [00:03<00:00, 62.44it/s]\n",
            "100%|██████████| 188/188 [00:02<00:00, 70.54it/s]\n",
            "100%|██████████| 32/32 [00:00<00:00, 97.31it/s]\n"
          ]
        },
        {
          "output_type": "stream",
          "name": "stdout",
          "text": [
            "Epoch: 2, Train Loss: 1.4838269812629579 Eval Loss: 1.4851748598739505\n"
          ]
        },
        {
          "output_type": "stream",
          "name": "stderr",
          "text": [
            "100%|██████████| 188/188 [00:02<00:00, 72.30it/s]\n",
            "100%|██████████| 188/188 [00:02<00:00, 72.84it/s]\n",
            "100%|██████████| 32/32 [00:00<00:00, 92.50it/s]\n"
          ]
        },
        {
          "output_type": "stream",
          "name": "stdout",
          "text": [
            "Epoch: 4, Train Loss: 1.269047387102817 Eval Loss: 1.425502804107964\n"
          ]
        },
        {
          "output_type": "stream",
          "name": "stderr",
          "text": [
            "100%|██████████| 188/188 [00:02<00:00, 64.31it/s]\n",
            "100%|██████████| 188/188 [00:02<00:00, 71.94it/s]\n",
            "100%|██████████| 32/32 [00:00<00:00, 103.12it/s]\n"
          ]
        },
        {
          "output_type": "stream",
          "name": "stdout",
          "text": [
            "Epoch: 6, Train Loss: 1.1115890928405396 Eval Loss: 1.3398676705546677\n"
          ]
        },
        {
          "output_type": "stream",
          "name": "stderr",
          "text": [
            "100%|██████████| 188/188 [00:02<00:00, 73.33it/s]\n",
            "100%|██████████| 188/188 [00:02<00:00, 73.49it/s]\n",
            "100%|██████████| 32/32 [00:00<00:00, 103.40it/s]\n"
          ]
        },
        {
          "output_type": "stream",
          "name": "stdout",
          "text": [
            "Epoch: 8, Train Loss: 0.9994646312391504 Eval Loss: 1.3222198318690062\n"
          ]
        },
        {
          "output_type": "stream",
          "name": "stderr",
          "text": [
            "100%|██████████| 188/188 [00:02<00:00, 69.51it/s]\n"
          ]
        }
      ],
      "source": [
        "from torch.utils.data import DataLoader\n",
        "from torch.utils.data import random_split\n",
        "from torch.optim import Adam\n",
        "import torchvision.transforms as T\n",
        "from tqdm import tqdm\n",
        "\n",
        "device = 'cuda' if torch.cuda.is_available() else 'cpu'\n",
        "\n",
        "batch_size = 16\n",
        "learning_rate = 1e-4\n",
        "\n",
        "# Exploring different transformation functions\n",
        "transform = T.Compose([\n",
        "    T.Resize((64, 64)),\n",
        "    T.RandomHorizontalFlip(),\n",
        "    T.ToTensor(),\n",
        "    T.Normalize(mean=[0.485, 0.456, 0.406], std=[0.229, 0.224, 0.225])\n",
        "])\n",
        "\n",
        "img_root = \"./\"\n",
        "\n",
        "# Create an instance of the CustomImageDataset class for the training and validation datasets\n",
        "csv_path_train = '/content/data/csvs/train.csv'\n",
        "csv_path_val = '/content/data/csvs/val.csv'\n",
        "\n",
        "train_set = CustomImageDataset(csv_path=csv_path_train, data_root=img_root, transform=transform, device=device)\n",
        "val_set = CustomImageDataset(csv_path=csv_path_val, data_root=img_root, transform=transform, device=device)\n",
        "\n",
        "# Create two dataloaders for bothe datasets.\n",
        "# Shuffle the training dataloader. This is important to prevent the model from learning the order of the data.\n",
        "train_loader = DataLoader(train_set, batch_size=batch_size, shuffle=True)\n",
        "val_loader = DataLoader(val_set, batch_size=batch_size, shuffle=False)\n",
        "\n",
        "# Initialize the model\n",
        "n_classes = 10\n",
        "model = ImageClassifier(n_classes=10).to(device)\n",
        "\n",
        "# Initialize the Adam optimizer\n",
        "optimizer = Adam(model.parameters(), lr=learning_rate)\n",
        "\n",
        "# Instantiate the loss function.\n",
        "loss_fn = nn.CrossEntropyLoss()\n",
        "\n",
        "# Training loop\n",
        "eval_every = 2\n",
        "n_epochs = 10\n",
        "val_loss_values = []\n",
        "training_loss_values = []\n",
        "eval_epochs = []\n",
        "\n",
        "for epoch in range(n_epochs):\n",
        "    # set model to training mode\n",
        "    model.train()\n",
        "    total_loss = 0\n",
        "    for img, label in tqdm(train_loader):\n",
        "\n",
        "        # Make a forward pass (predict the class of the image)\n",
        "        pred = model(img)\n",
        "\n",
        "        # Calculate the loss\n",
        "        loss = loss_fn(pred, label)\n",
        "        total_loss += loss.item()\n",
        "\n",
        "        loss.backward()\n",
        "        optimizer.step()\n",
        "        optimizer.zero_grad()\n",
        "\n",
        "    # Validation loop\n",
        "    if epoch > 0 and epoch % eval_every == 0:\n",
        "        model.eval()\n",
        "        total_val_loss = 0\n",
        "        count = 0\n",
        "        # Don't calculate gradients when evaluating model\n",
        "        with torch.no_grad():\n",
        "            for img, label in tqdm(val_loader):\n",
        "                pred = model(img)\n",
        "                val_loss = loss_fn(pred, label)\n",
        "                total_val_loss += val_loss.item()\n",
        "                count += 1\n",
        "\n",
        "        avg_train_loss = total_loss / len(train_loader)\n",
        "        avg_val_loss = total_val_loss / count\n",
        "\n",
        "        print(f\"Epoch: {epoch}, Train Loss: {avg_train_loss} Eval Loss: {avg_val_loss}\")\n",
        "        eval_epochs.append(epoch)\n",
        "        training_loss_values.append(avg_train_loss)\n",
        "        val_loss_values.append(avg_val_loss)\n",
        "\n",
        "\n",
        "# Save model's weights\n",
        "torch.save(model.state_dict(), \"model.pth\")"
      ]
    },
    {
      "cell_type": "markdown",
      "metadata": {
        "id": "JJ4yoS8JDqE6"
      },
      "source": [
        "### Plot your training and validation loss"
      ]
    },
    {
      "cell_type": "code",
      "execution_count": 7,
      "metadata": {
        "id": "oVFpiEPbDqE7",
        "outputId": "8ad4c841-0670-42a0-d69b-b209c0247a7f",
        "colab": {
          "base_uri": "https://localhost:8080/",
          "height": 430
        }
      },
      "outputs": [
        {
          "output_type": "display_data",
          "data": {
            "text/plain": [
              "<Figure size 640x480 with 1 Axes>"
            ],
            "image/png": "[encoded data removed]"
          },
          "metadata": {}
        }
      ],
      "source": [
        "# Plot the training and validation loss\n",
        "plt.plot(eval_epochs, training_loss_values, label='Training loss')\n",
        "plt.plot(eval_epochs, val_loss_values, label='Validation loss')\n",
        "plt.legend()\n",
        "plt.show()"
      ]
    },
    {
      "cell_type": "markdown",
      "metadata": {
        "id": "K082PbS4xpbW"
      },
      "source": [
        "### Test model against the validation dataset"
      ]
    },
    {
      "cell_type": "code",
      "execution_count": 12,
      "metadata": {
        "id": "J9rJjPJs1tno",
        "outputId": "bbfb28bf-d796-46f0-aafa-370b96308c14",
        "colab": {
          "base_uri": "https://localhost:8080/"
        }
      },
      "outputs": [
        {
          "output_type": "stream",
          "name": "stderr",
          "text": [
            "100%|██████████| 500/500 [00:00<00:00, 729.92it/s]\n"
          ]
        }
      ],
      "source": [
        "## Load from saved model\n",
        "import numpy as np\n",
        "import torch\n",
        "\n",
        "# Load from saved model using torch.load\n",
        "model = ImageClassifier(n_classes=10).to(device)  # Ensure to use the same n_classes as used during training\n",
        "model_state_dict = torch.load(\"./model.pth\", map_location=device)  # Add map_location to ensure it loads on the right device\n",
        "model.load_state_dict(model_state_dict)\n",
        "model.eval()\n",
        "\n",
        "# set model to inference mode\n",
        "model.eval()\n",
        "batch_size = 1\n",
        "\n",
        "# Load the validation dataset\n",
        "val_transform = transforms.Compose([\n",
        "    transforms.Resize((64, 64)),\n",
        "    transforms.ToTensor(),\n",
        "    transforms.Normalize(mean=[0.485, 0.456, 0.406], std=[0.229, 0.224, 0.225])\n",
        "])\n",
        "\n",
        "test_dataset = CustomImageDataset(csv_path='/content/data/csvs/val.csv', data_root='/content', transform=val_transform, device=device)\n",
        "test_loader = DataLoader(test_dataset, batch_size=batch_size, shuffle=False)\n",
        "\n",
        "preds = []\n",
        "model.eval()\n",
        "with torch.no_grad():\n",
        "    for img, label in tqdm(test_loader):\n",
        "        img = img.to(device)\n",
        "        outputs = model(img)\n",
        "        _, predicted = torch.max(outputs.data, 1)\n",
        "        preds.extend(predicted.cpu().numpy())\n",
        "\n",
        "# Get the true labels for the validation dataset\n",
        "true_labels = [label.cpu() for _, label in test_dataset]\n",
        "\n",
        "preds = np.array(preds)\n",
        "true_labels = np.array(true_labels)\n",
        "\n",
        "accuracy = (preds == true_labels).sum() / len(true_labels)"
      ]
    },
    {
      "cell_type": "markdown",
      "metadata": {
        "id": "V8fLnrflZ0bY"
      },
      "source": [
        "### Evaluation"
      ]
    },
    {
      "cell_type": "code",
      "execution_count": 9,
      "metadata": {
        "id": "WVoWLoSBZ26n",
        "outputId": "fc271a0c-b3f7-4162-fb1b-f7cac285d82d",
        "colab": {
          "base_uri": "https://localhost:8080/"
        }
      },
      "outputs": [
        {
          "output_type": "stream",
          "name": "stderr",
          "text": [
            "100%|██████████| 47/47 [00:00<00:00, 62.34it/s]\n"
          ]
        }
      ],
      "source": [
        "## Load from saved model\n",
        "import torch\n",
        "import torch.nn as nn\n",
        "from torch.utils.data import DataLoader\n",
        "import numpy as np\n",
        "import pandas as pd\n",
        "from tqdm import tqdm\n",
        "\n",
        "# Load from saved model using torch.load\n",
        "model = ImageClassifier(n_classes=10).to(device)  # Initialize the model as before\n",
        "model_state_dict = torch.load(\"./model.pth\", map_location=device)\n",
        "model.load_state_dict(model_state_dict)\n",
        "model.eval()\n",
        "\n",
        "# Load the test data\n",
        "test_dataset = CustomImageDataset(csv_path='/content/data/csvs/test.csv', data_root='/content', transform=val_transform, device=device)\n",
        "test_loader = DataLoader(test_dataset, batch_size=32, shuffle=False)\n",
        "\n",
        "final_preds = []\n",
        "with torch.no_grad():\n",
        "    for img, img_names, img_paths in tqdm(test_loader):\n",
        "        img = img.to(device)\n",
        "        outputs = model(img)\n",
        "        _, pred = torch.max(outputs, 1)  # Get the predicted class index\n",
        "\n",
        "        batch_preds = [\n",
        "            (img_name, pred_img.item(), img_path)\n",
        "            for img_name, pred_img, img_path in zip(img_names, pred.cpu().numpy(), img_paths)\n",
        "        ]\n",
        "        final_preds.extend(batch_preds)\n"
      ]
    },
    {
      "cell_type": "code",
      "execution_count": 10,
      "metadata": {
        "id": "0YwTrORz9Z9I",
        "outputId": "712743d8-b50a-4a36-ef29-7781803baa97",
        "colab": {
          "base_uri": "https://localhost:8080/",
          "height": 17
        }
      },
      "outputs": [
        {
          "output_type": "display_data",
          "data": {
            "text/plain": [
              "<IPython.core.display.Javascript object>"
            ],
            "application/javascript": [
              "\n",
              "    async function download(id, filename, size) {\n",
              "      if (!google.colab.kernel.accessAllowed) {\n",
              "        return;\n",
              "      }\n",
              "      const div = document.createElement('div');\n",
              "      const label = document.createElement('label');\n",
              "      label.textContent = `Downloading \"${filename}\": `;\n",
              "      div.appendChild(label);\n",
              "      const progress = document.createElement('progress');\n",
              "      progress.max = size;\n",
              "      div.appendChild(progress);\n",
              "      document.body.appendChild(div);\n",
              "\n",
              "      const buffers = [];\n",
              "      let downloaded = 0;\n",
              "\n",
              "      const channel = await google.colab.kernel.comms.open(id);\n",
              "      // Send a message to notify the kernel that we're ready.\n",
              "      channel.send({})\n",
              "\n",
              "      for await (const message of channel.messages) {\n",
              "        // Send a message to notify the kernel that we're ready.\n",
              "        channel.send({})\n",
              "        if (message.buffers) {\n",
              "          for (const buffer of message.buffers) {\n",
              "            buffers.push(buffer);\n",
              "            downloaded += buffer.byteLength;\n",
              "            progress.value = downloaded;\n",
              "          }\n",
              "        }\n",
              "      }\n",
              "      const blob = new Blob(buffers, {type: 'application/binary'});\n",
              "      const a = document.createElement('a');\n",
              "      a.href = window.URL.createObjectURL(blob);\n",
              "      a.download = filename;\n",
              "      div.appendChild(a);\n",
              "      a.click();\n",
              "      div.remove();\n",
              "    }\n",
              "  "
            ]
          },
          "metadata": {}
        },
        {
          "output_type": "display_data",
          "data": {
            "text/plain": [
              "<IPython.core.display.Javascript object>"
            ],
            "application/javascript": [
              "download(\"download_a5402cc2-f3d4-4b19-ac34-8defd0ff9076\", \"prediction.csv\", 66424)"
            ]
          },
          "metadata": {}
        }
      ],
      "source": [
        "test_prediction = pd.DataFrame(final_preds, columns=['image_name', 'prediction', 'image_path'])\n",
        "test_prediction.to_csv('prediction.csv')\n",
        "\n",
        "from google.colab import files\n",
        "files.download('prediction.csv')"
      ]
    }
  ],
  "metadata": {
    "accelerator": "GPU",
    "colab": {
      "gpuType": "T4",
      "provenance": [],
      "include_colab_link": true
    },
    "kernelspec": {
      "display_name": "Python 3",
      "name": "python3"
    },
    "language_info": {
      "codemirror_mode": {
        "name": "ipython",
        "version": 3
      },
      "file_extension": ".py",
      "mimetype": "text/x-python",
      "name": "python",
      "nbconvert_exporter": "python",
      "pygments_lexer": "ipython3",
      "version": "3.10.14"
    }
  },
  "nbformat": 4,
  "nbformat_minor": 0
}